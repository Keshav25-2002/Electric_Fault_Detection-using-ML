{
 "cells": [
  {
   "cell_type": "markdown",
   "metadata": {
    "id": "W3EatTY4VQ4S"
   },
   "source": [
    "# Electrical Fault detection"
   ]
  },
  {
   "cell_type": "markdown",
   "metadata": {
    "id": "yOPnc8tVVg_a"
   },
   "source": [
    "We have to predict faults in a power system."
   ]
  },
  {
   "cell_type": "markdown",
   "metadata": {
    "id": "DYUvjaFqVtKh"
   },
   "source": [
    "# Dataset Desciption\n",
    "\n",
    "The dataset contains one file \n",
    "\n",
    "detect_dataset.csv\n",
    "\n",
    "shape of the dataset is (12001, 9)\n",
    "\n",
    "# Columns in dataset\n",
    "\n",
    "there are seven columns\n",
    "\n",
    "'Output (S)',\n",
    "\n",
    "'Ia',\n",
    "\n",
    "'Ib',\n",
    "\n",
    "'Ic',\n",
    "\n",
    "'Va', \n",
    "\n",
    "'Vb', \n",
    "\n",
    "'Vc', \n",
    "\n",
    "'Unnamed: 7',\n",
    "\n",
    "'Unnamed: 8'\n",
    "\n",
    "Outputs - 0 (No-fault) or 1(Fault is present)"
   ]
  },
  {
   "cell_type": "code",
   "execution_count": 98,
   "metadata": {
    "id": "onJmI6AzieJL"
   },
   "outputs": [],
   "source": [
    "# Importing Necessary Libraries\n",
    "import pandas as pd\n",
    "import numpy as np \n",
    "import matplotlib.pyplot as plt\n",
    "import seaborn as sns"
   ]
  },
  {
   "cell_type": "code",
   "execution_count": 2,
   "metadata": {
    "colab": {
     "base_uri": "https://localhost:8080/"
    },
    "id": "iLNjmv7vlvNp",
    "outputId": "3da9bec4-302d-47fe-dd16-95c368a822cb"
   },
   "outputs": [
    {
     "name": "stdout",
     "output_type": "stream",
     "text": [
      "Mounted at /content/drive\n"
     ]
    }
   ],
   "source": [
    "from google.colab import drive\n",
    "drive.mount('/content/drive')\n"
   ]
  },
  {
   "cell_type": "code",
   "execution_count": 116,
   "metadata": {
    "id": "t3U0ef3llvMd"
   },
   "outputs": [],
   "source": [
    "# Read csv file using pandas\n",
    "data =  pd.read_csv(\"/content/drive/MyDrive/ML work /electric fault/detect_dataset.csv\")"
   ]
  },
  {
   "cell_type": "code",
   "execution_count": 117,
   "metadata": {
    "colab": {
     "base_uri": "https://localhost:8080/",
     "height": 204
    },
    "id": "yckoKHYilvJT",
    "outputId": "49aaad64-a1ae-4105-8588-d5e8a802945a"
   },
   "outputs": [
    {
     "data": {
      "text/html": [
       "<div>\n",
       "<style scoped>\n",
       "    .dataframe tbody tr th:only-of-type {\n",
       "        vertical-align: middle;\n",
       "    }\n",
       "\n",
       "    .dataframe tbody tr th {\n",
       "        vertical-align: top;\n",
       "    }\n",
       "\n",
       "    .dataframe thead th {\n",
       "        text-align: right;\n",
       "    }\n",
       "</style>\n",
       "<table border=\"1\" class=\"dataframe\">\n",
       "  <thead>\n",
       "    <tr style=\"text-align: right;\">\n",
       "      <th></th>\n",
       "      <th>Output (S)</th>\n",
       "      <th>Ia</th>\n",
       "      <th>Ib</th>\n",
       "      <th>Ic</th>\n",
       "      <th>Va</th>\n",
       "      <th>Vb</th>\n",
       "      <th>Vc</th>\n",
       "      <th>Unnamed: 7</th>\n",
       "      <th>Unnamed: 8</th>\n",
       "    </tr>\n",
       "  </thead>\n",
       "  <tbody>\n",
       "    <tr>\n",
       "      <th>0</th>\n",
       "      <td>0</td>\n",
       "      <td>-170.472196</td>\n",
       "      <td>9.219613</td>\n",
       "      <td>161.252583</td>\n",
       "      <td>0.054490</td>\n",
       "      <td>-0.659921</td>\n",
       "      <td>0.605431</td>\n",
       "      <td>NaN</td>\n",
       "      <td>NaN</td>\n",
       "    </tr>\n",
       "    <tr>\n",
       "      <th>1</th>\n",
       "      <td>0</td>\n",
       "      <td>-122.235754</td>\n",
       "      <td>6.168667</td>\n",
       "      <td>116.067087</td>\n",
       "      <td>0.102000</td>\n",
       "      <td>-0.628612</td>\n",
       "      <td>0.526202</td>\n",
       "      <td>NaN</td>\n",
       "      <td>NaN</td>\n",
       "    </tr>\n",
       "    <tr>\n",
       "      <th>2</th>\n",
       "      <td>0</td>\n",
       "      <td>-90.161474</td>\n",
       "      <td>3.813632</td>\n",
       "      <td>86.347841</td>\n",
       "      <td>0.141026</td>\n",
       "      <td>-0.605277</td>\n",
       "      <td>0.464251</td>\n",
       "      <td>NaN</td>\n",
       "      <td>NaN</td>\n",
       "    </tr>\n",
       "    <tr>\n",
       "      <th>3</th>\n",
       "      <td>0</td>\n",
       "      <td>-79.904916</td>\n",
       "      <td>2.398803</td>\n",
       "      <td>77.506112</td>\n",
       "      <td>0.156272</td>\n",
       "      <td>-0.602235</td>\n",
       "      <td>0.445963</td>\n",
       "      <td>NaN</td>\n",
       "      <td>NaN</td>\n",
       "    </tr>\n",
       "    <tr>\n",
       "      <th>4</th>\n",
       "      <td>0</td>\n",
       "      <td>-63.885255</td>\n",
       "      <td>0.590667</td>\n",
       "      <td>63.294587</td>\n",
       "      <td>0.180451</td>\n",
       "      <td>-0.591501</td>\n",
       "      <td>0.411050</td>\n",
       "      <td>NaN</td>\n",
       "      <td>NaN</td>\n",
       "    </tr>\n",
       "  </tbody>\n",
       "</table>\n",
       "</div>"
      ],
      "text/plain": [
       "   Output (S)          Ia        Ib  ...        Vc  Unnamed: 7  Unnamed: 8\n",
       "0           0 -170.472196  9.219613  ...  0.605431         NaN         NaN\n",
       "1           0 -122.235754  6.168667  ...  0.526202         NaN         NaN\n",
       "2           0  -90.161474  3.813632  ...  0.464251         NaN         NaN\n",
       "3           0  -79.904916  2.398803  ...  0.445963         NaN         NaN\n",
       "4           0  -63.885255  0.590667  ...  0.411050         NaN         NaN\n",
       "\n",
       "[5 rows x 9 columns]"
      ]
     },
     "execution_count": 117,
     "metadata": {},
     "output_type": "execute_result"
    }
   ],
   "source": [
    "data.head()"
   ]
  },
  {
   "cell_type": "markdown",
   "metadata": {
    "id": "174wyWpVWXHr"
   },
   "source": [
    "# basic EDA"
   ]
  },
  {
   "cell_type": "code",
   "execution_count": 118,
   "metadata": {
    "colab": {
     "base_uri": "https://localhost:8080/"
    },
    "id": "RDwkZbfflvIK",
    "outputId": "4ceaf0e6-9533-4166-edf6-efd56be2cf91"
   },
   "outputs": [
    {
     "data": {
      "text/plain": [
       "(12001, 9)"
      ]
     },
     "execution_count": 118,
     "metadata": {},
     "output_type": "execute_result"
    }
   ],
   "source": [
    "#check shape of the dataset\n",
    "data.shape"
   ]
  },
  {
   "cell_type": "code",
   "execution_count": 119,
   "metadata": {
    "colab": {
     "base_uri": "https://localhost:8080/"
    },
    "id": "7e8t0ue5lvEV",
    "outputId": "01d2ccde-ba8d-4000-e6c0-d41268f632dd"
   },
   "outputs": [
    {
     "data": {
      "text/plain": [
       "Index(['Output (S)', 'Ia', 'Ib', 'Ic', 'Va', 'Vb', 'Vc', 'Unnamed: 7',\n",
       "       'Unnamed: 8'],\n",
       "      dtype='object')"
      ]
     },
     "execution_count": 119,
     "metadata": {},
     "output_type": "execute_result"
    }
   ],
   "source": [
    "# check columns of dataset\n",
    "data.columns"
   ]
  },
  {
   "cell_type": "code",
   "execution_count": 120,
   "metadata": {
    "colab": {
     "base_uri": "https://localhost:8080/"
    },
    "id": "qmywjdE5SjwQ",
    "outputId": "c99859a9-712f-463b-ae69-36d16a506e82"
   },
   "outputs": [
    {
     "name": "stdout",
     "output_type": "stream",
     "text": [
      "dataset length:  12001\n"
     ]
    }
   ],
   "source": [
    "# check length of dataset\n",
    "print('dataset length: ',len(data))"
   ]
  },
  {
   "cell_type": "code",
   "execution_count": 121,
   "metadata": {
    "colab": {
     "base_uri": "https://localhost:8080/"
    },
    "id": "1bFLlxnlSgGc",
    "outputId": "05f3b999-f9e0-4dc3-9539-cbe13455c36a"
   },
   "outputs": [
    {
     "name": "stdout",
     "output_type": "stream",
     "text": [
      "<class 'pandas.core.frame.DataFrame'>\n",
      "RangeIndex: 12001 entries, 0 to 12000\n",
      "Data columns (total 9 columns):\n",
      " #   Column      Non-Null Count  Dtype  \n",
      "---  ------      --------------  -----  \n",
      " 0   Output (S)  12001 non-null  int64  \n",
      " 1   Ia          12001 non-null  float64\n",
      " 2   Ib          12001 non-null  float64\n",
      " 3   Ic          12001 non-null  float64\n",
      " 4   Va          12001 non-null  float64\n",
      " 5   Vb          12001 non-null  float64\n",
      " 6   Vc          12001 non-null  float64\n",
      " 7   Unnamed: 7  0 non-null      float64\n",
      " 8   Unnamed: 8  0 non-null      float64\n",
      "dtypes: float64(8), int64(1)\n",
      "memory usage: 843.9 KB\n"
     ]
    }
   ],
   "source": [
    "# Check which columns are having categorical, numerical or boolean values\n",
    "data.info()"
   ]
  },
  {
   "cell_type": "code",
   "execution_count": 122,
   "metadata": {
    "colab": {
     "base_uri": "https://localhost:8080/",
     "height": 296
    },
    "id": "WEEyYVD_lvDU",
    "outputId": "e04f39c9-8c0f-4b77-ccba-64e89315a310"
   },
   "outputs": [
    {
     "data": {
      "text/html": [
       "<div>\n",
       "<style scoped>\n",
       "    .dataframe tbody tr th:only-of-type {\n",
       "        vertical-align: middle;\n",
       "    }\n",
       "\n",
       "    .dataframe tbody tr th {\n",
       "        vertical-align: top;\n",
       "    }\n",
       "\n",
       "    .dataframe thead th {\n",
       "        text-align: right;\n",
       "    }\n",
       "</style>\n",
       "<table border=\"1\" class=\"dataframe\">\n",
       "  <thead>\n",
       "    <tr style=\"text-align: right;\">\n",
       "      <th></th>\n",
       "      <th>Output (S)</th>\n",
       "      <th>Ia</th>\n",
       "      <th>Ib</th>\n",
       "      <th>Ic</th>\n",
       "      <th>Va</th>\n",
       "      <th>Vb</th>\n",
       "      <th>Vc</th>\n",
       "      <th>Unnamed: 7</th>\n",
       "      <th>Unnamed: 8</th>\n",
       "    </tr>\n",
       "  </thead>\n",
       "  <tbody>\n",
       "    <tr>\n",
       "      <th>count</th>\n",
       "      <td>12001.000000</td>\n",
       "      <td>12001.000000</td>\n",
       "      <td>12001.000000</td>\n",
       "      <td>12001.000000</td>\n",
       "      <td>12001.000000</td>\n",
       "      <td>12001.000000</td>\n",
       "      <td>12001.000000</td>\n",
       "      <td>0.0</td>\n",
       "      <td>0.0</td>\n",
       "    </tr>\n",
       "    <tr>\n",
       "      <th>mean</th>\n",
       "      <td>0.457962</td>\n",
       "      <td>6.709369</td>\n",
       "      <td>-26.557793</td>\n",
       "      <td>22.353043</td>\n",
       "      <td>0.010517</td>\n",
       "      <td>-0.015498</td>\n",
       "      <td>0.004980</td>\n",
       "      <td>NaN</td>\n",
       "      <td>NaN</td>\n",
       "    </tr>\n",
       "    <tr>\n",
       "      <th>std</th>\n",
       "      <td>0.498250</td>\n",
       "      <td>377.158470</td>\n",
       "      <td>357.458613</td>\n",
       "      <td>302.052809</td>\n",
       "      <td>0.346221</td>\n",
       "      <td>0.357644</td>\n",
       "      <td>0.349272</td>\n",
       "      <td>NaN</td>\n",
       "      <td>NaN</td>\n",
       "    </tr>\n",
       "    <tr>\n",
       "      <th>min</th>\n",
       "      <td>0.000000</td>\n",
       "      <td>-883.542316</td>\n",
       "      <td>-900.526952</td>\n",
       "      <td>-883.357762</td>\n",
       "      <td>-0.620748</td>\n",
       "      <td>-0.659921</td>\n",
       "      <td>-0.612709</td>\n",
       "      <td>NaN</td>\n",
       "      <td>NaN</td>\n",
       "    </tr>\n",
       "    <tr>\n",
       "      <th>25%</th>\n",
       "      <td>0.000000</td>\n",
       "      <td>-64.348986</td>\n",
       "      <td>-51.421937</td>\n",
       "      <td>-54.562257</td>\n",
       "      <td>-0.237610</td>\n",
       "      <td>-0.313721</td>\n",
       "      <td>-0.278951</td>\n",
       "      <td>NaN</td>\n",
       "      <td>NaN</td>\n",
       "    </tr>\n",
       "    <tr>\n",
       "      <th>50%</th>\n",
       "      <td>0.000000</td>\n",
       "      <td>-3.239788</td>\n",
       "      <td>4.711283</td>\n",
       "      <td>-0.399419</td>\n",
       "      <td>0.002465</td>\n",
       "      <td>-0.007192</td>\n",
       "      <td>0.008381</td>\n",
       "      <td>NaN</td>\n",
       "      <td>NaN</td>\n",
       "    </tr>\n",
       "    <tr>\n",
       "      <th>75%</th>\n",
       "      <td>1.000000</td>\n",
       "      <td>53.823453</td>\n",
       "      <td>69.637787</td>\n",
       "      <td>45.274542</td>\n",
       "      <td>0.285078</td>\n",
       "      <td>0.248681</td>\n",
       "      <td>0.289681</td>\n",
       "      <td>NaN</td>\n",
       "      <td>NaN</td>\n",
       "    </tr>\n",
       "    <tr>\n",
       "      <th>max</th>\n",
       "      <td>1.000000</td>\n",
       "      <td>885.738571</td>\n",
       "      <td>889.868884</td>\n",
       "      <td>901.274261</td>\n",
       "      <td>0.609864</td>\n",
       "      <td>0.627875</td>\n",
       "      <td>0.608243</td>\n",
       "      <td>NaN</td>\n",
       "      <td>NaN</td>\n",
       "    </tr>\n",
       "  </tbody>\n",
       "</table>\n",
       "</div>"
      ],
      "text/plain": [
       "         Output (S)            Ia  ...  Unnamed: 7  Unnamed: 8\n",
       "count  12001.000000  12001.000000  ...         0.0         0.0\n",
       "mean       0.457962      6.709369  ...         NaN         NaN\n",
       "std        0.498250    377.158470  ...         NaN         NaN\n",
       "min        0.000000   -883.542316  ...         NaN         NaN\n",
       "25%        0.000000    -64.348986  ...         NaN         NaN\n",
       "50%        0.000000     -3.239788  ...         NaN         NaN\n",
       "75%        1.000000     53.823453  ...         NaN         NaN\n",
       "max        1.000000    885.738571  ...         NaN         NaN\n",
       "\n",
       "[8 rows x 9 columns]"
      ]
     },
     "execution_count": 122,
     "metadata": {},
     "output_type": "execute_result"
    }
   ],
   "source": [
    "# For more information on the dataset like the total count in all the columns of train data\n",
    "# min, max values and more information of the respective columns \n",
    "data.describe()"
   ]
  },
  {
   "cell_type": "code",
   "execution_count": 123,
   "metadata": {
    "colab": {
     "base_uri": "https://localhost:8080/"
    },
    "id": "qR_KvwfZnqDh",
    "outputId": "076cf6d1-3035-44ce-b634-3669af36d2c4"
   },
   "outputs": [
    {
     "data": {
      "text/plain": [
       "Output (S)        0\n",
       "Ia                0\n",
       "Ib                0\n",
       "Ic                0\n",
       "Va                0\n",
       "Vb                0\n",
       "Vc                0\n",
       "Unnamed: 7    12001\n",
       "Unnamed: 8    12001\n",
       "dtype: int64"
      ]
     },
     "execution_count": 123,
     "metadata": {},
     "output_type": "execute_result"
    }
   ],
   "source": [
    "# Check for missing values in all the columnns of the dataset\n",
    "data.isnull().sum()"
   ]
  },
  {
   "cell_type": "code",
   "execution_count": 124,
   "metadata": {
    "colab": {
     "base_uri": "https://localhost:8080/"
    },
    "id": "RHYBt6CzSn3L",
    "outputId": "4ab99838-42dd-4f2f-9f95-7c1b4e7a3b6b"
   },
   "outputs": [
    {
     "name": "stdout",
     "output_type": "stream",
     "text": [
      "Output (S) : 2\n",
      "Ia : 12001\n",
      "Ib : 12001\n",
      "Ic : 12001\n",
      "Va : 11996\n",
      "Vb : 11813\n",
      "Vc : 11987\n",
      "Unnamed: 7 : 1\n",
      "Unnamed: 8 : 1\n"
     ]
    }
   ],
   "source": [
    "# loop through datatset to find count of unique values of each column\n",
    "for x in data.columns:\n",
    "    print(x,':',len(data[x].unique()))"
   ]
  },
  {
   "cell_type": "code",
   "execution_count": 125,
   "metadata": {
    "colab": {
     "base_uri": "https://localhost:8080/",
     "height": 111
    },
    "id": "kC38hVyv-fyX",
    "outputId": "b601e64b-70cd-456c-d10c-d8c06ea66251"
   },
   "outputs": [
    {
     "data": {
      "text/html": [
       "<div>\n",
       "<style scoped>\n",
       "    .dataframe tbody tr th:only-of-type {\n",
       "        vertical-align: middle;\n",
       "    }\n",
       "\n",
       "    .dataframe tbody tr th {\n",
       "        vertical-align: top;\n",
       "    }\n",
       "\n",
       "    .dataframe thead th {\n",
       "        text-align: right;\n",
       "    }\n",
       "</style>\n",
       "<table border=\"1\" class=\"dataframe\">\n",
       "  <thead>\n",
       "    <tr style=\"text-align: right;\">\n",
       "      <th></th>\n",
       "      <th>Output (S)</th>\n",
       "      <th>Ia</th>\n",
       "      <th>Ib</th>\n",
       "      <th>Ic</th>\n",
       "      <th>Va</th>\n",
       "      <th>Vb</th>\n",
       "      <th>Vc</th>\n",
       "    </tr>\n",
       "  </thead>\n",
       "  <tbody>\n",
       "    <tr>\n",
       "      <th>0</th>\n",
       "      <td>0</td>\n",
       "      <td>-170.472196</td>\n",
       "      <td>9.219613</td>\n",
       "      <td>161.252583</td>\n",
       "      <td>0.05449</td>\n",
       "      <td>-0.659921</td>\n",
       "      <td>0.605431</td>\n",
       "    </tr>\n",
       "    <tr>\n",
       "      <th>1</th>\n",
       "      <td>0</td>\n",
       "      <td>-122.235754</td>\n",
       "      <td>6.168667</td>\n",
       "      <td>116.067087</td>\n",
       "      <td>0.10200</td>\n",
       "      <td>-0.628612</td>\n",
       "      <td>0.526202</td>\n",
       "    </tr>\n",
       "  </tbody>\n",
       "</table>\n",
       "</div>"
      ],
      "text/plain": [
       "   Output (S)          Ia        Ib          Ic       Va        Vb        Vc\n",
       "0           0 -170.472196  9.219613  161.252583  0.05449 -0.659921  0.605431\n",
       "1           0 -122.235754  6.168667  116.067087  0.10200 -0.628612  0.526202"
      ]
     },
     "execution_count": 125,
     "metadata": {},
     "output_type": "execute_result"
    }
   ],
   "source": [
    "# drop 'Unnamed: 7','Unnamed: 8'\n",
    "data.drop(['Unnamed: 7','Unnamed: 8'],axis=1, inplace=True)\n",
    "data.head(2)"
   ]
  },
  {
   "cell_type": "code",
   "execution_count": 126,
   "metadata": {
    "colab": {
     "base_uri": "https://localhost:8080/"
    },
    "id": "Y3VNecxg-fuS",
    "outputId": "89940248-b276-4809-f275-f5a119581080"
   },
   "outputs": [
    {
     "data": {
      "text/plain": [
       "0    6505\n",
       "1    5496\n",
       "Name: Output (S), dtype: int64"
      ]
     },
     "execution_count": 126,
     "metadata": {},
     "output_type": "execute_result"
    }
   ],
   "source": [
    "# check total number of fault and no-fault instances\n",
    "data['Output (S)'].value_counts()"
   ]
  },
  {
   "cell_type": "markdown",
   "metadata": {
    "id": "2tYBYcVMTXOe"
   },
   "source": [
    "# Correlation Matrix\n",
    "\n",
    "## Why?\n",
    "#### A correlation matrix is a table showing correlation coefficients between variables.\n",
    "\n",
    "### There are three broad reasons for computing a correlation matrix:\n",
    "\n",
    "  1. To summarize a large amount of data where the goal is to see patterns. In our example above, the observable pattern is that all the variables highly correlate with each other.\n",
    "  2. To input into other analyses. For example, people commonly use correlation matrixes as inputs for exploratory factor analysis, confirmatory factor analysis, structural equation models, and linear regression when excluding missing values pairwise.\n",
    "  3. As a diagnostic when checking other analyses. For example, with linear regression, a high amount of correlations suggests that the linear regression estimates will be unreliable."
   ]
  },
  {
   "cell_type": "code",
   "execution_count": 127,
   "metadata": {
    "colab": {
     "base_uri": "https://localhost:8080/",
     "height": 184
    },
    "id": "Txt0Rpe4CS_v",
    "outputId": "164315ef-5ea7-402b-a51c-c2255ace806e"
   },
   "outputs": [
    {
     "data": {
      "text/html": [
       "<style  type=\"text/css\" >\n",
       "#T_0ea2f060_3120_11ec_884b_0242ac1c0002row0_col0,#T_0ea2f060_3120_11ec_884b_0242ac1c0002row1_col1,#T_0ea2f060_3120_11ec_884b_0242ac1c0002row2_col2,#T_0ea2f060_3120_11ec_884b_0242ac1c0002row3_col3,#T_0ea2f060_3120_11ec_884b_0242ac1c0002row4_col4,#T_0ea2f060_3120_11ec_884b_0242ac1c0002row5_col5,#T_0ea2f060_3120_11ec_884b_0242ac1c0002row6_col6{\n",
       "            background-color:  #b40426;\n",
       "            color:  #f1f1f1;\n",
       "        }#T_0ea2f060_3120_11ec_884b_0242ac1c0002row0_col1{\n",
       "            background-color:  #9fbfff;\n",
       "            color:  #000000;\n",
       "        }#T_0ea2f060_3120_11ec_884b_0242ac1c0002row0_col2{\n",
       "            background-color:  #90b2fe;\n",
       "            color:  #000000;\n",
       "        }#T_0ea2f060_3120_11ec_884b_0242ac1c0002row0_col3{\n",
       "            background-color:  #c7d7f0;\n",
       "            color:  #000000;\n",
       "        }#T_0ea2f060_3120_11ec_884b_0242ac1c0002row0_col4{\n",
       "            background-color:  #a3c2fe;\n",
       "            color:  #000000;\n",
       "        }#T_0ea2f060_3120_11ec_884b_0242ac1c0002row0_col5{\n",
       "            background-color:  #afcafc;\n",
       "            color:  #000000;\n",
       "        }#T_0ea2f060_3120_11ec_884b_0242ac1c0002row0_col6,#T_0ea2f060_3120_11ec_884b_0242ac1c0002row1_col4{\n",
       "            background-color:  #b2ccfb;\n",
       "            color:  #000000;\n",
       "        }#T_0ea2f060_3120_11ec_884b_0242ac1c0002row1_col0{\n",
       "            background-color:  #6b8df0;\n",
       "            color:  #000000;\n",
       "        }#T_0ea2f060_3120_11ec_884b_0242ac1c0002row1_col2{\n",
       "            background-color:  #5977e3;\n",
       "            color:  #000000;\n",
       "        }#T_0ea2f060_3120_11ec_884b_0242ac1c0002row1_col3{\n",
       "            background-color:  #6f92f3;\n",
       "            color:  #000000;\n",
       "        }#T_0ea2f060_3120_11ec_884b_0242ac1c0002row1_col5{\n",
       "            background-color:  #88abfd;\n",
       "            color:  #000000;\n",
       "        }#T_0ea2f060_3120_11ec_884b_0242ac1c0002row1_col6{\n",
       "            background-color:  #c9d7f0;\n",
       "            color:  #000000;\n",
       "        }#T_0ea2f060_3120_11ec_884b_0242ac1c0002row2_col0,#T_0ea2f060_3120_11ec_884b_0242ac1c0002row2_col1,#T_0ea2f060_3120_11ec_884b_0242ac1c0002row2_col3,#T_0ea2f060_3120_11ec_884b_0242ac1c0002row3_col2,#T_0ea2f060_3120_11ec_884b_0242ac1c0002row5_col4,#T_0ea2f060_3120_11ec_884b_0242ac1c0002row5_col6,#T_0ea2f060_3120_11ec_884b_0242ac1c0002row6_col5{\n",
       "            background-color:  #3b4cc0;\n",
       "            color:  #f1f1f1;\n",
       "        }#T_0ea2f060_3120_11ec_884b_0242ac1c0002row2_col4{\n",
       "            background-color:  #a5c3fe;\n",
       "            color:  #000000;\n",
       "        }#T_0ea2f060_3120_11ec_884b_0242ac1c0002row2_col5{\n",
       "            background-color:  #b5cdfa;\n",
       "            color:  #000000;\n",
       "        }#T_0ea2f060_3120_11ec_884b_0242ac1c0002row2_col6{\n",
       "            background-color:  #abc8fd;\n",
       "            color:  #000000;\n",
       "        }#T_0ea2f060_3120_11ec_884b_0242ac1c0002row3_col0{\n",
       "            background-color:  #84a7fc;\n",
       "            color:  #000000;\n",
       "        }#T_0ea2f060_3120_11ec_884b_0242ac1c0002row3_col1{\n",
       "            background-color:  #506bda;\n",
       "            color:  #000000;\n",
       "        }#T_0ea2f060_3120_11ec_884b_0242ac1c0002row3_col4{\n",
       "            background-color:  #aac7fd;\n",
       "            color:  #000000;\n",
       "        }#T_0ea2f060_3120_11ec_884b_0242ac1c0002row3_col5{\n",
       "            background-color:  #97b8ff;\n",
       "            color:  #000000;\n",
       "        }#T_0ea2f060_3120_11ec_884b_0242ac1c0002row3_col6{\n",
       "            background-color:  #c3d5f4;\n",
       "            color:  #000000;\n",
       "        }#T_0ea2f060_3120_11ec_884b_0242ac1c0002row4_col0{\n",
       "            background-color:  #5572df;\n",
       "            color:  #000000;\n",
       "        }#T_0ea2f060_3120_11ec_884b_0242ac1c0002row4_col1{\n",
       "            background-color:  #9dbdff;\n",
       "            color:  #000000;\n",
       "        }#T_0ea2f060_3120_11ec_884b_0242ac1c0002row4_col2{\n",
       "            background-color:  #a9c6fd;\n",
       "            color:  #000000;\n",
       "        }#T_0ea2f060_3120_11ec_884b_0242ac1c0002row4_col3{\n",
       "            background-color:  #aec9fc;\n",
       "            color:  #000000;\n",
       "        }#T_0ea2f060_3120_11ec_884b_0242ac1c0002row4_col5{\n",
       "            background-color:  #3d50c3;\n",
       "            color:  #f1f1f1;\n",
       "        }#T_0ea2f060_3120_11ec_884b_0242ac1c0002row4_col6{\n",
       "            background-color:  #445acc;\n",
       "            color:  #f1f1f1;\n",
       "        }#T_0ea2f060_3120_11ec_884b_0242ac1c0002row5_col0{\n",
       "            background-color:  #6384eb;\n",
       "            color:  #000000;\n",
       "        }#T_0ea2f060_3120_11ec_884b_0242ac1c0002row5_col1{\n",
       "            background-color:  #6c8ff1;\n",
       "            color:  #000000;\n",
       "        }#T_0ea2f060_3120_11ec_884b_0242ac1c0002row5_col2,#T_0ea2f060_3120_11ec_884b_0242ac1c0002row6_col1{\n",
       "            background-color:  #b6cefa;\n",
       "            color:  #000000;\n",
       "        }#T_0ea2f060_3120_11ec_884b_0242ac1c0002row5_col3{\n",
       "            background-color:  #98b9ff;\n",
       "            color:  #000000;\n",
       "        }#T_0ea2f060_3120_11ec_884b_0242ac1c0002row6_col0{\n",
       "            background-color:  #6687ed;\n",
       "            color:  #000000;\n",
       "        }#T_0ea2f060_3120_11ec_884b_0242ac1c0002row6_col2{\n",
       "            background-color:  #adc9fd;\n",
       "            color:  #000000;\n",
       "        }#T_0ea2f060_3120_11ec_884b_0242ac1c0002row6_col3{\n",
       "            background-color:  #c4d5f3;\n",
       "            color:  #000000;\n",
       "        }#T_0ea2f060_3120_11ec_884b_0242ac1c0002row6_col4{\n",
       "            background-color:  #4257c9;\n",
       "            color:  #f1f1f1;\n",
       "        }</style><table id=\"T_0ea2f060_3120_11ec_884b_0242ac1c0002\" ><thead>    <tr>        <th class=\"blank level0\" ></th>        <th class=\"col_heading level0 col0\" >Output (S)</th>        <th class=\"col_heading level0 col1\" >Ia</th>        <th class=\"col_heading level0 col2\" >Ib</th>        <th class=\"col_heading level0 col3\" >Ic</th>        <th class=\"col_heading level0 col4\" >Va</th>        <th class=\"col_heading level0 col5\" >Vb</th>        <th class=\"col_heading level0 col6\" >Vc</th>    </tr></thead><tbody>\n",
       "                <tr>\n",
       "                        <th id=\"T_0ea2f060_3120_11ec_884b_0242ac1c0002level0_row0\" class=\"row_heading level0 row0\" >Output (S)</th>\n",
       "                        <td id=\"T_0ea2f060_3120_11ec_884b_0242ac1c0002row0_col0\" class=\"data row0 col0\" >1.00</td>\n",
       "                        <td id=\"T_0ea2f060_3120_11ec_884b_0242ac1c0002row0_col1\" class=\"data row0 col1\" >0.04</td>\n",
       "                        <td id=\"T_0ea2f060_3120_11ec_884b_0242ac1c0002row0_col2\" class=\"data row0 col2\" >-0.13</td>\n",
       "                        <td id=\"T_0ea2f060_3120_11ec_884b_0242ac1c0002row0_col3\" class=\"data row0 col3\" >0.12</td>\n",
       "                        <td id=\"T_0ea2f060_3120_11ec_884b_0242ac1c0002row0_col4\" class=\"data row0 col4\" >-0.04</td>\n",
       "                        <td id=\"T_0ea2f060_3120_11ec_884b_0242ac1c0002row0_col5\" class=\"data row0 col5\" >0.01</td>\n",
       "                        <td id=\"T_0ea2f060_3120_11ec_884b_0242ac1c0002row0_col6\" class=\"data row0 col6\" >0.02</td>\n",
       "            </tr>\n",
       "            <tr>\n",
       "                        <th id=\"T_0ea2f060_3120_11ec_884b_0242ac1c0002level0_row1\" class=\"row_heading level0 row1\" >Ia</th>\n",
       "                        <td id=\"T_0ea2f060_3120_11ec_884b_0242ac1c0002row1_col0\" class=\"data row1 col0\" >0.04</td>\n",
       "                        <td id=\"T_0ea2f060_3120_11ec_884b_0242ac1c0002row1_col1\" class=\"data row1 col1\" >1.00</td>\n",
       "                        <td id=\"T_0ea2f060_3120_11ec_884b_0242ac1c0002row1_col2\" class=\"data row1 col2\" >-0.38</td>\n",
       "                        <td id=\"T_0ea2f060_3120_11ec_884b_0242ac1c0002row1_col3\" class=\"data row1 col3\" >-0.28</td>\n",
       "                        <td id=\"T_0ea2f060_3120_11ec_884b_0242ac1c0002row1_col4\" class=\"data row1 col4\" >0.03</td>\n",
       "                        <td id=\"T_0ea2f060_3120_11ec_884b_0242ac1c0002row1_col5\" class=\"data row1 col5\" >-0.16</td>\n",
       "                        <td id=\"T_0ea2f060_3120_11ec_884b_0242ac1c0002row1_col6\" class=\"data row1 col6\" >0.13</td>\n",
       "            </tr>\n",
       "            <tr>\n",
       "                        <th id=\"T_0ea2f060_3120_11ec_884b_0242ac1c0002level0_row2\" class=\"row_heading level0 row2\" >Ib</th>\n",
       "                        <td id=\"T_0ea2f060_3120_11ec_884b_0242ac1c0002row2_col0\" class=\"data row2 col0\" >-0.13</td>\n",
       "                        <td id=\"T_0ea2f060_3120_11ec_884b_0242ac1c0002row2_col1\" class=\"data row2 col1\" >-0.38</td>\n",
       "                        <td id=\"T_0ea2f060_3120_11ec_884b_0242ac1c0002row2_col2\" class=\"data row2 col2\" >1.00</td>\n",
       "                        <td id=\"T_0ea2f060_3120_11ec_884b_0242ac1c0002row2_col3\" class=\"data row2 col3\" >-0.53</td>\n",
       "                        <td id=\"T_0ea2f060_3120_11ec_884b_0242ac1c0002row2_col4\" class=\"data row2 col4\" >-0.03</td>\n",
       "                        <td id=\"T_0ea2f060_3120_11ec_884b_0242ac1c0002row2_col5\" class=\"data row2 col5\" >0.03</td>\n",
       "                        <td id=\"T_0ea2f060_3120_11ec_884b_0242ac1c0002row2_col6\" class=\"data row2 col6\" >-0.01</td>\n",
       "            </tr>\n",
       "            <tr>\n",
       "                        <th id=\"T_0ea2f060_3120_11ec_884b_0242ac1c0002level0_row3\" class=\"row_heading level0 row3\" >Ic</th>\n",
       "                        <td id=\"T_0ea2f060_3120_11ec_884b_0242ac1c0002row3_col0\" class=\"data row3 col0\" >0.12</td>\n",
       "                        <td id=\"T_0ea2f060_3120_11ec_884b_0242ac1c0002row3_col1\" class=\"data row3 col1\" >-0.28</td>\n",
       "                        <td id=\"T_0ea2f060_3120_11ec_884b_0242ac1c0002row3_col2\" class=\"data row3 col2\" >-0.53</td>\n",
       "                        <td id=\"T_0ea2f060_3120_11ec_884b_0242ac1c0002row3_col3\" class=\"data row3 col3\" >1.00</td>\n",
       "                        <td id=\"T_0ea2f060_3120_11ec_884b_0242ac1c0002row3_col4\" class=\"data row3 col4\" >-0.00</td>\n",
       "                        <td id=\"T_0ea2f060_3120_11ec_884b_0242ac1c0002row3_col5\" class=\"data row3 col5\" >-0.10</td>\n",
       "                        <td id=\"T_0ea2f060_3120_11ec_884b_0242ac1c0002row3_col6\" class=\"data row3 col6\" >0.10</td>\n",
       "            </tr>\n",
       "            <tr>\n",
       "                        <th id=\"T_0ea2f060_3120_11ec_884b_0242ac1c0002level0_row4\" class=\"row_heading level0 row4\" >Va</th>\n",
       "                        <td id=\"T_0ea2f060_3120_11ec_884b_0242ac1c0002row4_col0\" class=\"data row4 col0\" >-0.04</td>\n",
       "                        <td id=\"T_0ea2f060_3120_11ec_884b_0242ac1c0002row4_col1\" class=\"data row4 col1\" >0.03</td>\n",
       "                        <td id=\"T_0ea2f060_3120_11ec_884b_0242ac1c0002row4_col2\" class=\"data row4 col2\" >-0.03</td>\n",
       "                        <td id=\"T_0ea2f060_3120_11ec_884b_0242ac1c0002row4_col3\" class=\"data row4 col3\" >-0.00</td>\n",
       "                        <td id=\"T_0ea2f060_3120_11ec_884b_0242ac1c0002row4_col4\" class=\"data row4 col4\" >1.00</td>\n",
       "                        <td id=\"T_0ea2f060_3120_11ec_884b_0242ac1c0002row4_col5\" class=\"data row4 col5\" >-0.51</td>\n",
       "                        <td id=\"T_0ea2f060_3120_11ec_884b_0242ac1c0002row4_col6\" class=\"data row4 col6\" >-0.47</td>\n",
       "            </tr>\n",
       "            <tr>\n",
       "                        <th id=\"T_0ea2f060_3120_11ec_884b_0242ac1c0002level0_row5\" class=\"row_heading level0 row5\" >Vb</th>\n",
       "                        <td id=\"T_0ea2f060_3120_11ec_884b_0242ac1c0002row5_col0\" class=\"data row5 col0\" >0.01</td>\n",
       "                        <td id=\"T_0ea2f060_3120_11ec_884b_0242ac1c0002row5_col1\" class=\"data row5 col1\" >-0.16</td>\n",
       "                        <td id=\"T_0ea2f060_3120_11ec_884b_0242ac1c0002row5_col2\" class=\"data row5 col2\" >0.03</td>\n",
       "                        <td id=\"T_0ea2f060_3120_11ec_884b_0242ac1c0002row5_col3\" class=\"data row5 col3\" >-0.10</td>\n",
       "                        <td id=\"T_0ea2f060_3120_11ec_884b_0242ac1c0002row5_col4\" class=\"data row5 col4\" >-0.51</td>\n",
       "                        <td id=\"T_0ea2f060_3120_11ec_884b_0242ac1c0002row5_col5\" class=\"data row5 col5\" >1.00</td>\n",
       "                        <td id=\"T_0ea2f060_3120_11ec_884b_0242ac1c0002row5_col6\" class=\"data row5 col6\" >-0.52</td>\n",
       "            </tr>\n",
       "            <tr>\n",
       "                        <th id=\"T_0ea2f060_3120_11ec_884b_0242ac1c0002level0_row6\" class=\"row_heading level0 row6\" >Vc</th>\n",
       "                        <td id=\"T_0ea2f060_3120_11ec_884b_0242ac1c0002row6_col0\" class=\"data row6 col0\" >0.02</td>\n",
       "                        <td id=\"T_0ea2f060_3120_11ec_884b_0242ac1c0002row6_col1\" class=\"data row6 col1\" >0.13</td>\n",
       "                        <td id=\"T_0ea2f060_3120_11ec_884b_0242ac1c0002row6_col2\" class=\"data row6 col2\" >-0.01</td>\n",
       "                        <td id=\"T_0ea2f060_3120_11ec_884b_0242ac1c0002row6_col3\" class=\"data row6 col3\" >0.10</td>\n",
       "                        <td id=\"T_0ea2f060_3120_11ec_884b_0242ac1c0002row6_col4\" class=\"data row6 col4\" >-0.47</td>\n",
       "                        <td id=\"T_0ea2f060_3120_11ec_884b_0242ac1c0002row6_col5\" class=\"data row6 col5\" >-0.52</td>\n",
       "                        <td id=\"T_0ea2f060_3120_11ec_884b_0242ac1c0002row6_col6\" class=\"data row6 col6\" >1.00</td>\n",
       "            </tr>\n",
       "    </tbody></table>"
      ],
      "text/plain": [
       "<pandas.io.formats.style.Styler at 0x7fb664794390>"
      ]
     },
     "execution_count": 127,
     "metadata": {},
     "output_type": "execute_result"
    }
   ],
   "source": [
    "# Using pandas\n",
    "corr = data.corr()\n",
    "corr.style.background_gradient(cmap='coolwarm').set_precision(2)"
   ]
  },
  {
   "cell_type": "markdown",
   "metadata": {
    "id": "XnEsWEEsTm-T"
   },
   "source": [
    "# Histogram\n",
    "\n",
    "1. A histogram is an approximate representation of the distribution of numerical data.\n",
    "\n",
    "2. To construct a histogram, the first step is to \"bin\" (or \"bucket\") the range of values—that is, divide the entire range of values into a series of intervals—and then count how many values fall into each interval.\n",
    "\n",
    "3. The words used to describe the patterns in a histogram are: \"symmetric\", \"skewed left\" or \"right\", \"unimodal\", \"bimodal\" or \"multimodal\"."
   ]
  },
  {
   "cell_type": "code",
   "execution_count": 128,
   "metadata": {
    "colab": {
     "base_uri": "https://localhost:8080/",
     "height": 1000
    },
    "id": "IQ2N-BOlCS-X",
    "outputId": "2706110c-b92c-4b3a-ad4b-e17330407c63"
   },
   "outputs": [
    {
     "data": {
      "text/plain": [
       "array([[<matplotlib.axes._subplots.AxesSubplot object at 0x7fb6647e68d0>,\n",
       "        <matplotlib.axes._subplots.AxesSubplot object at 0x7fb66469a4d0>,\n",
       "        <matplotlib.axes._subplots.AxesSubplot object at 0x7fb6646cba50>],\n",
       "       [<matplotlib.axes._subplots.AxesSubplot object at 0x7fb664677b10>,\n",
       "        <matplotlib.axes._subplots.AxesSubplot object at 0x7fb664642590>,\n",
       "        <matplotlib.axes._subplots.AxesSubplot object at 0x7fb6645f8b10>],\n",
       "       [<matplotlib.axes._subplots.AxesSubplot object at 0x7fb6645bc150>,\n",
       "        <matplotlib.axes._subplots.AxesSubplot object at 0x7fb664579690>,\n",
       "        <matplotlib.axes._subplots.AxesSubplot object at 0x7fb6645796d0>]],\n",
       "      dtype=object)"
      ]
     },
     "execution_count": 128,
     "metadata": {},
     "output_type": "execute_result"
    },
    {
     "data": {
      "image/png": "[encoded data removed]",
      "text/plain": [
       "<Figure size 2160x1152 with 9 Axes>"
      ]
     },
     "metadata": {
      "needs_background": "light"
     },
     "output_type": "display_data"
    }
   ],
   "source": [
    "# Histogram using pandas \n",
    "data.hist(figsize=(30, 16))"
   ]
  },
  {
   "cell_type": "markdown",
   "metadata": {
    "id": "A9lQc6G_T6le"
   },
   "source": [
    "### Count plot"
   ]
  },
  {
   "cell_type": "code",
   "execution_count": 129,
   "metadata": {
    "colab": {
     "base_uri": "https://localhost:8080/",
     "height": 335
    },
    "id": "44nndj72Cjak",
    "outputId": "10a6b5eb-68bd-42a1-d2e0-1a0c7363d614"
   },
   "outputs": [
    {
     "name": "stderr",
     "output_type": "stream",
     "text": [
      "/usr/local/lib/python3.7/dist-packages/seaborn/_decorators.py:43: FutureWarning: Pass the following variable as a keyword arg: x. From version 0.12, the only valid positional argument will be `data`, and passing other arguments without an explicit keyword will result in an error or misinterpretation.\n",
      "  FutureWarning\n"
     ]
    },
    {
     "data": {
      "image/png": "[encoded data removed]",
      "text/plain": [
       "<Figure size 432x288 with 1 Axes>"
      ]
     },
     "metadata": {
      "needs_background": "light"
     },
     "output_type": "display_data"
    }
   ],
   "source": [
    "# count plot of Output (S) column\n",
    "sns.countplot(data['Output (S)'])\n",
    "plt.show()"
   ]
  },
  {
   "cell_type": "markdown",
   "metadata": {
    "id": "TqaIURlaT_e2"
   },
   "source": [
    "# Box plot\n",
    "\n",
    "\n",
    "A boxplot is a standardized way of displaying the dataset based on a five-number summary:\n",
    "\n",
    "    1. Minimum (Q0 or 0th percentile): the lowest data point excluding any outliers.\n",
    "\n",
    "    2. Maximum (Q4 or 100th percentile): the largest data point excluding any outliers.\n",
    "\n",
    "    3. Median (Q2 or 50th percentile): the middle value of the dataset.\n",
    "\n",
    "    4. First quartile (Q1 or 25th percentile): also known as the lower quartile qn(0.25), is the median of the lower half of the dataset.\n",
    "\n",
    "    5. Third quartile (Q3 or 75th percentile): also known as the upper quartile qn(0.75), is the median of the upper half of the dataset"
   ]
  },
  {
   "cell_type": "code",
   "execution_count": 130,
   "metadata": {
    "colab": {
     "base_uri": "https://localhost:8080/",
     "height": 679
    },
    "id": "OwU1rU-KCjDn",
    "outputId": "498d390d-2814-4407-b1ca-317156cb6fde"
   },
   "outputs": [
    {
     "data": {
      "text/plain": [
       "{'boxes': [<matplotlib.lines.Line2D at 0x7fb664223ad0>],\n",
       " 'caps': [<matplotlib.lines.Line2D at 0x7fb66422ab10>,\n",
       "  <matplotlib.lines.Line2D at 0x7fb664231090>],\n",
       " 'fliers': [<matplotlib.lines.Line2D at 0x7fb664231b50>],\n",
       " 'means': [],\n",
       " 'medians': [<matplotlib.lines.Line2D at 0x7fb664231610>],\n",
       " 'whiskers': [<matplotlib.lines.Line2D at 0x7fb66422a090>,\n",
       "  <matplotlib.lines.Line2D at 0x7fb66422a5d0>]}"
      ]
     },
     "execution_count": 130,
     "metadata": {},
     "output_type": "execute_result"
    },
    {
     "data": {
      "image/png": "[encoded data removed]",
      "text/plain": [
       "<Figure size 1440x648 with 1 Axes>"
      ]
     },
     "metadata": {
      "needs_background": "light"
     },
     "output_type": "display_data"
    }
   ],
   "source": [
    "# box plot using pandas \n",
    "# box plot for Output (S) column \n",
    "plt.figure(figsize=(20, 9))\n",
    "plt.boxplot(x=data['Output (S)'])"
   ]
  },
  {
   "cell_type": "code",
   "execution_count": 131,
   "metadata": {
    "colab": {
     "base_uri": "https://localhost:8080/",
     "height": 679
    },
    "id": "Ri4cEZKrDDk1",
    "outputId": "cd230410-7cdb-43a3-fef4-191320850009"
   },
   "outputs": [
    {
     "data": {
      "text/plain": [
       "{'boxes': [<matplotlib.lines.Line2D at 0x7fb66420dad0>],\n",
       " 'caps': [<matplotlib.lines.Line2D at 0x7fb664210b10>,\n",
       "  <matplotlib.lines.Line2D at 0x7fb66419a090>],\n",
       " 'fliers': [<matplotlib.lines.Line2D at 0x7fb66419ab50>],\n",
       " 'means': [],\n",
       " 'medians': [<matplotlib.lines.Line2D at 0x7fb66419a610>],\n",
       " 'whiskers': [<matplotlib.lines.Line2D at 0x7fb664210090>,\n",
       "  <matplotlib.lines.Line2D at 0x7fb6642105d0>]}"
      ]
     },
     "execution_count": 131,
     "metadata": {},
     "output_type": "execute_result"
    },
    {
     "data": {
      "image/png": "[encoded data removed]",
      "text/plain": [
       "<Figure size 1440x648 with 1 Axes>"
      ]
     },
     "metadata": {
      "needs_background": "light"
     },
     "output_type": "display_data"
    }
   ],
   "source": [
    "# box plot using pandas \n",
    "# box plot for Ia column \n",
    "plt.figure(figsize=(20, 9))\n",
    "plt.boxplot(x=data['Ia'])"
   ]
  },
  {
   "cell_type": "code",
   "execution_count": 132,
   "metadata": {
    "colab": {
     "base_uri": "https://localhost:8080/",
     "height": 679
    },
    "id": "iATUk1TjDDiU",
    "outputId": "c9de909b-e7b9-4382-960e-a1130eda30a3"
   },
   "outputs": [
    {
     "data": {
      "text/plain": [
       "{'boxes': [<matplotlib.lines.Line2D at 0x7fb664173e10>],\n",
       " 'caps': [<matplotlib.lines.Line2D at 0x7fb66417de90>,\n",
       "  <matplotlib.lines.Line2D at 0x7fb664182410>],\n",
       " 'fliers': [<matplotlib.lines.Line2D at 0x7fb664182ed0>],\n",
       " 'means': [],\n",
       " 'medians': [<matplotlib.lines.Line2D at 0x7fb664182990>],\n",
       " 'whiskers': [<matplotlib.lines.Line2D at 0x7fb66417d410>,\n",
       "  <matplotlib.lines.Line2D at 0x7fb66417d950>]}"
      ]
     },
     "execution_count": 132,
     "metadata": {},
     "output_type": "execute_result"
    },
    {
     "data": {
      "image/png": "[encoded data removed]",
      "text/plain": [
       "<Figure size 1440x648 with 1 Axes>"
      ]
     },
     "metadata": {
      "needs_background": "light"
     },
     "output_type": "display_data"
    }
   ],
   "source": [
    "# box plot using pandas \n",
    "# box plot for Ib column \n",
    "plt.figure(figsize=(20, 9))\n",
    "plt.boxplot(x=data['Ib'])"
   ]
  },
  {
   "cell_type": "code",
   "execution_count": 133,
   "metadata": {
    "colab": {
     "base_uri": "https://localhost:8080/",
     "height": 679
    },
    "id": "rJQv1P0hDDe2",
    "outputId": "4f36e1d8-0b52-4b07-ee58-01812bfb55c6"
   },
   "outputs": [
    {
     "data": {
      "text/plain": [
       "{'boxes': [<matplotlib.lines.Line2D at 0x7fb6640e7210>],\n",
       " 'caps': [<matplotlib.lines.Line2D at 0x7fb6640ed250>,\n",
       "  <matplotlib.lines.Line2D at 0x7fb6640ed790>],\n",
       " 'fliers': [<matplotlib.lines.Line2D at 0x7fb6640f6290>],\n",
       " 'means': [],\n",
       " 'medians': [<matplotlib.lines.Line2D at 0x7fb6640edd10>],\n",
       " 'whiskers': [<matplotlib.lines.Line2D at 0x7fb6640e7790>,\n",
       "  <matplotlib.lines.Line2D at 0x7fb6640e7cd0>]}"
      ]
     },
     "execution_count": 133,
     "metadata": {},
     "output_type": "execute_result"
    },
    {
     "data": {
      "image/png": "[encoded data removed]",
      "text/plain": [
       "<Figure size 1440x648 with 1 Axes>"
      ]
     },
     "metadata": {
      "needs_background": "light"
     },
     "output_type": "display_data"
    }
   ],
   "source": [
    "# box plot using pandas \n",
    "# box plot for Ic column \n",
    "plt.figure(figsize=(20, 9))\n",
    "plt.boxplot(x=data['Ic'])"
   ]
  },
  {
   "cell_type": "code",
   "execution_count": 134,
   "metadata": {
    "colab": {
     "base_uri": "https://localhost:8080/",
     "height": 679
    },
    "id": "26iWjxk3DDdf",
    "outputId": "32dee1be-b828-4fb5-fd38-1b045640602c"
   },
   "outputs": [
    {
     "data": {
      "text/plain": [
       "{'boxes': [<matplotlib.lines.Line2D at 0x7fb6640d3510>],\n",
       " 'caps': [<matplotlib.lines.Line2D at 0x7fb66405b550>,\n",
       "  <matplotlib.lines.Line2D at 0x7fb66405ba90>],\n",
       " 'fliers': [<matplotlib.lines.Line2D at 0x7fb664062590>],\n",
       " 'means': [],\n",
       " 'medians': [<matplotlib.lines.Line2D at 0x7fb664062050>],\n",
       " 'whiskers': [<matplotlib.lines.Line2D at 0x7fb6640d3a90>,\n",
       "  <matplotlib.lines.Line2D at 0x7fb6640d3fd0>]}"
      ]
     },
     "execution_count": 134,
     "metadata": {},
     "output_type": "execute_result"
    },
    {
     "data": {
      "image/png": "[encoded data removed]",
      "text/plain": [
       "<Figure size 1440x648 with 1 Axes>"
      ]
     },
     "metadata": {
      "needs_background": "light"
     },
     "output_type": "display_data"
    }
   ],
   "source": [
    "# box plot using pandas \n",
    "# box plot for Va column \n",
    "plt.figure(figsize=(20, 9))\n",
    "plt.boxplot(x=data['Va'])"
   ]
  },
  {
   "cell_type": "code",
   "execution_count": 135,
   "metadata": {
    "colab": {
     "base_uri": "https://localhost:8080/",
     "height": 679
    },
    "id": "OqafrG7oDDa8",
    "outputId": "1397abe2-b412-4149-fc86-c676d71d6be0"
   },
   "outputs": [
    {
     "data": {
      "text/plain": [
       "{'boxes': [<matplotlib.lines.Line2D at 0x7fb664041810>],\n",
       " 'caps': [<matplotlib.lines.Line2D at 0x7fb664046850>,\n",
       "  <matplotlib.lines.Line2D at 0x7fb664046d90>],\n",
       " 'fliers': [<matplotlib.lines.Line2D at 0x7fb66404d890>],\n",
       " 'means': [],\n",
       " 'medians': [<matplotlib.lines.Line2D at 0x7fb66404d350>],\n",
       " 'whiskers': [<matplotlib.lines.Line2D at 0x7fb664041d90>,\n",
       "  <matplotlib.lines.Line2D at 0x7fb664046310>]}"
      ]
     },
     "execution_count": 135,
     "metadata": {},
     "output_type": "execute_result"
    },
    {
     "data": {
      "image/png": "[encoded data removed]",
      "text/plain": [
       "<Figure size 1440x648 with 1 Axes>"
      ]
     },
     "metadata": {
      "needs_background": "light"
     },
     "output_type": "display_data"
    }
   ],
   "source": [
    "# box plot using pandas \n",
    "# box plot for Vb column \n",
    "plt.figure(figsize=(20, 9))\n",
    "plt.boxplot(x=data['Vb'])"
   ]
  },
  {
   "cell_type": "code",
   "execution_count": 136,
   "metadata": {
    "colab": {
     "base_uri": "https://localhost:8080/",
     "height": 679
    },
    "id": "k0ZMrofFDDYt",
    "outputId": "190c3484-b0eb-4cc8-c444-aa712f98080d"
   },
   "outputs": [
    {
     "data": {
      "text/plain": [
       "{'boxes': [<matplotlib.lines.Line2D at 0x7fb663fa9c90>],\n",
       " 'caps': [<matplotlib.lines.Line2D at 0x7fb663fb1cd0>,\n",
       "  <matplotlib.lines.Line2D at 0x7fb663fb6250>],\n",
       " 'fliers': [<matplotlib.lines.Line2D at 0x7fb663fb6d10>],\n",
       " 'means': [],\n",
       " 'medians': [<matplotlib.lines.Line2D at 0x7fb663fb67d0>],\n",
       " 'whiskers': [<matplotlib.lines.Line2D at 0x7fb663fb1250>,\n",
       "  <matplotlib.lines.Line2D at 0x7fb663fb1790>]}"
      ]
     },
     "execution_count": 136,
     "metadata": {},
     "output_type": "execute_result"
    },
    {
     "data": {
      "image/png": "[encoded data removed]",
      "text/plain": [
       "<Figure size 1440x648 with 1 Axes>"
      ]
     },
     "metadata": {
      "needs_background": "light"
     },
     "output_type": "display_data"
    }
   ],
   "source": [
    "# box plot using pandas \n",
    "# box plot for Vc column \n",
    "plt.figure(figsize=(20, 9))\n",
    "plt.boxplot(x=data['Vc'])"
   ]
  },
  {
   "cell_type": "markdown",
   "metadata": {
    "id": "jh9Q36xXZAeq"
   },
   "source": [
    "Dataset is balanced and not skewed in nature"
   ]
  },
  {
   "cell_type": "markdown",
   "metadata": {
    "id": "VoN41RlaUG_Y"
   },
   "source": [
    "# Dendrogram"
   ]
  },
  {
   "cell_type": "code",
   "execution_count": 137,
   "metadata": {
    "colab": {
     "base_uri": "https://localhost:8080/",
     "height": 592
    },
    "id": "_r5MsTqWDDU-",
    "outputId": "83a0cd9d-24ad-4918-980d-34654c95cf8d"
   },
   "outputs": [
    {
     "data": {
      "image/png": "[encoded data removed]",
      "text/plain": [
       "<Figure size 1152x720 with 1 Axes>"
      ]
     },
     "metadata": {
      "needs_background": "light"
     },
     "output_type": "display_data"
    }
   ],
   "source": [
    "# Plot a Dendrogram on the columns of the dataset\n",
    "\n",
    "# droping the NaN values\n",
    "X = data.dropna()\n",
    "\n",
    "import scipy\n",
    "from scipy.cluster import hierarchy as hc\n",
    "\n",
    "corr = np.round(scipy.stats.spearmanr(X).correlation, 4)\n",
    "corr_condensed = hc.distance.squareform(1-corr)\n",
    "z = hc.linkage(corr_condensed, method='average')\n",
    "fig = plt.figure(figsize=(16,10))\n",
    "dendrogram = hc.dendrogram(z, labels=X.columns, orientation='left', leaf_font_size=16)\n",
    "plt.show()"
   ]
  },
  {
   "cell_type": "markdown",
   "metadata": {
    "id": "iNvxoKcNUX3H"
   },
   "source": [
    "# Preprocessing, Modeling and prediction on test data"
   ]
  },
  {
   "cell_type": "code",
   "execution_count": 101,
   "metadata": {
    "colab": {
     "base_uri": "https://localhost:8080/"
    },
    "id": "all5bN2N-fou",
    "outputId": "0cf1c278-f9b4-4eb0-fa17-7fda66c90b85"
   },
   "outputs": [
    {
     "name": "stdout",
     "output_type": "stream",
     "text": [
      "(12001, 6) (12001,)\n"
     ]
    }
   ],
   "source": [
    "## Split the labels and the target\n",
    "\n",
    "X = data.drop(['Output (S)'], axis=1)\n",
    "y = data['Output (S)']\n",
    "#check the shape \n",
    "print(X.shape, y.shape)"
   ]
  },
  {
   "cell_type": "code",
   "execution_count": 102,
   "metadata": {
    "colab": {
     "base_uri": "https://localhost:8080/"
    },
    "id": "6-r_W-3k-flM",
    "outputId": "01c8eac0-feeb-4e30-ac9f-e5535e849c32"
   },
   "outputs": [
    {
     "name": "stdout",
     "output_type": "stream",
     "text": [
      "(9600, 6) (9600,)\n",
      "(2401, 6) (2401,)\n"
     ]
    }
   ],
   "source": [
    "# import train test split\n",
    "from sklearn.model_selection import train_test_split\n",
    "\n",
    "# Split into training (80%) and testing set (20%)\n",
    "X_train, X_test, y_train, y_test = train_test_split(X, y, test_size = 0.2, random_state = 123)\n",
    "\n",
    "# check shape of X_train and y_train\n",
    "print(X_train.shape, y_train.shape)\n",
    "\n",
    "# check shape of X_test and y_test\n",
    "print(X_test.shape, y_test.shape)"
   ]
  },
  {
   "cell_type": "markdown",
   "metadata": {
    "id": "JZ5YmmuoUk_8"
   },
   "source": [
    "### Scaling"
   ]
  },
  {
   "cell_type": "code",
   "execution_count": 103,
   "metadata": {
    "id": "HQmvIGL8-fj_"
   },
   "outputs": [],
   "source": [
    "# import min max scalar\n",
    "from sklearn.preprocessing import MinMaxScaler\n",
    "\n",
    "# Instantiate t\n",
    "scaled = MinMaxScaler()\n",
    "\n",
    "# fit on train data\n",
    "X_train = scaled.fit_transform(X_train)\n",
    "# fit on test data\n",
    "X_test = scaled.transform(X_test)"
   ]
  },
  {
   "cell_type": "code",
   "execution_count": 104,
   "metadata": {
    "id": "UZCxM1BcwbFT"
   },
   "outputs": [],
   "source": [
    "# Visualize importance of all the features in the dataset for the prediction\n",
    "\n",
    "def visualize_importance(feature_importances, feat_train_df):\n",
    "    \n",
    "    # creating dataframe for feature name and feature importance\n",
    "    feature_importance_df = pd.DataFrame()\n",
    "\n",
    "    _df = pd.DataFrame()\n",
    "    _df['feature_importance'] = feature_importances\n",
    "    _df['column'] = feat_train_df.columns\n",
    "    feature_importance_df = pd.concat([feature_importance_df, _df], \n",
    "                                      axis=0, ignore_index=True)\n",
    "\n",
    "    # grouping all data and sorting in descending order\n",
    "    order = feature_importance_df.groupby('column')\\\n",
    "        .sum()[['feature_importance']]\\\n",
    "        .sort_values('feature_importance', ascending=False).index[:50]\n",
    "    \n",
    "    # ploting feature importance data using boxenplot\n",
    "    fig, ax = plt.subplots(figsize=(8, max(6, len(order) * .25)))\n",
    "    sns.boxenplot(data=feature_importance_df, \n",
    "                  x='feature_importance', \n",
    "                  y='column', \n",
    "                  order=order, \n",
    "                  ax=ax, \n",
    "                  palette='viridis', \n",
    "                  orient='h')\n",
    "    ax.tick_params(axis='x', rotation=0)\n",
    "    ax.set_title('Importance')\n",
    "    ax.grid()\n",
    "    fig.tight_layout()\n",
    "    return fig, ax"
   ]
  },
  {
   "cell_type": "code",
   "execution_count": 105,
   "metadata": {
    "id": "D10N3U1lLxQB"
   },
   "outputs": [],
   "source": [
    "# import accuracy_score, precision_score, precision_score, confusion_matrix\n",
    "from sklearn.metrics import accuracy_score,precision_score,precision_score,confusion_matrix"
   ]
  },
  {
   "cell_type": "markdown",
   "metadata": {
    "id": "TX3S-qx5Uvzq"
   },
   "source": [
    "## LogisticRegression"
   ]
  },
  {
   "cell_type": "code",
   "execution_count": 106,
   "metadata": {
    "colab": {
     "base_uri": "https://localhost:8080/",
     "height": 831
    },
    "id": "z8IKjUjhwbAt",
    "outputId": "d68175f9-a0e0-4fbf-8176-e8ef1d21ba93"
   },
   "outputs": [
    {
     "name": "stdout",
     "output_type": "stream",
     "text": [
      "accuracy_score:  0.721366097459392\n",
      "precision_score 0.39347234814143245\n",
      "recall_score 1.0\n",
      "[[1298  669]\n",
      " [   0  434]]\n",
      "CPU times: user 262 ms, sys: 204 ms, total: 465 ms\n",
      "Wall time: 254 ms\n"
     ]
    },
    {
     "data": {
      "image/png": "[encoded data removed]",
      "text/plain": [
       "<Figure size 576x432 with 1 Axes>"
      ]
     },
     "metadata": {
      "needs_background": "light"
     },
     "output_type": "display_data"
    },
    {
     "data": {
      "image/png": "[encoded data removed]",
      "text/plain": [
       "<Figure size 432x288 with 2 Axes>"
      ]
     },
     "metadata": {
      "needs_background": "light"
     },
     "output_type": "display_data"
    }
   ],
   "source": [
    "%%time\n",
    "# Fit a logistic Regression model to the train dataset\n",
    "\n",
    "# Import logisticRegressor\n",
    "from sklearn.linear_model import LogisticRegression\n",
    "\n",
    "# Instantiate the model\n",
    "log_class = LogisticRegression()\n",
    "\n",
    "# fitting the model on train data\n",
    "log_class.fit(X_train, y_train)\n",
    "\n",
    "#predict on test data\n",
    "y_pred_log = log_class.predict(X_test)\n",
    "\n",
    "# print accuracy_score,precision_score,precision_score,confusion_matrix\n",
    "print(\"accuracy_score: \", accuracy_score(y_pred_log, y_test))\n",
    "print(\"precision_score\", precision_score(y_pred_log, y_test))\n",
    "print(\"recall_score\", recall_score(y_pred_log, y_test))\n",
    "print(confusion_matrix(y_pred_log,y_test))\n",
    "\n",
    "# visualizing importance of features\n",
    "fig, ax = visualize_importance(log_class.coef_[0], X)\n",
    "\n",
    "# display confusion matrix\n",
    "disp = metrics.plot_confusion_matrix(log_class, X_test, y_test,\n",
    "                                 cmap=plt.cm.Blues,\n",
    "                                 normalize='true')"
   ]
  },
  {
   "cell_type": "markdown",
   "metadata": {
    "id": "jMuXcH7vU0lG"
   },
   "source": [
    "## RandomForestClassifier"
   ]
  },
  {
   "cell_type": "code",
   "execution_count": 107,
   "metadata": {
    "colab": {
     "base_uri": "https://localhost:8080/",
     "height": 831
    },
    "id": "orHP9CXNwa_b",
    "outputId": "5aea44f8-d37b-4f19-ec12-eaa3dfcec708"
   },
   "outputs": [
    {
     "name": "stdout",
     "output_type": "stream",
     "text": [
      "accuracy_score:  0.9975010412328197\n",
      "precision_score 1.0\n",
      "recall_score 0.9945897204688909\n",
      "[[1292    0]\n",
      " [   6 1103]]\n",
      "CPU times: user 2.67 s, sys: 107 ms, total: 2.78 s\n",
      "Wall time: 2.67 s\n"
     ]
    },
    {
     "data": {
      "image/png": "[encoded data removed]",
      "text/plain": [
       "<Figure size 576x432 with 1 Axes>"
      ]
     },
     "metadata": {
      "needs_background": "light"
     },
     "output_type": "display_data"
    },
    {
     "data": {
      "image/png": "[encoded data removed]",
      "text/plain": [
       "<Figure size 432x288 with 2 Axes>"
      ]
     },
     "metadata": {
      "needs_background": "light"
     },
     "output_type": "display_data"
    }
   ],
   "source": [
    "%%time\n",
    "# Fit a RandomForestClassifier model to the train dataset\n",
    "\n",
    "#import RandomForestClassifier\n",
    "from sklearn.ensemble import RandomForestClassifier\n",
    "\n",
    "# Instantiate the model\n",
    "rf_clf = RandomForestClassifier(n_estimators=200, max_depth=40)\n",
    "\n",
    "# fitting the model on train data\n",
    "rf_clf.fit(X_train, y_train)\n",
    "\n",
    "# predict on test data\n",
    "y_preds_rf = rf_clf.predict(X_test)\n",
    "\n",
    "# print accuracy_score,precision_score,precision_score,confusion_matrix\n",
    "print(\"accuracy_score: \", accuracy_score(y_preds_rf, y_test))\n",
    "print(\"precision_score\", precision_score(y_preds_rf, y_test))\n",
    "print(\"recall_score\", recall_score(y_preds_rf, y_test))\n",
    "print(confusion_matrix(y_preds_rf,y_test))\n",
    "\n",
    "# visualizing importance of features\n",
    "fig, ax = visualize_importance(rf_clf.feature_importances_, X)\n",
    "\n",
    "# display confusion matrix\n",
    "disp = metrics.plot_confusion_matrix(rf_clf, X_test, y_test,\n",
    "                                 cmap=plt.cm.Blues,\n",
    "                                 normalize='true')"
   ]
  },
  {
   "cell_type": "markdown",
   "metadata": {
    "id": "boAQ9dIRU3Xd"
   },
   "source": [
    "## DecisionTreeClassifier"
   ]
  },
  {
   "cell_type": "code",
   "execution_count": 108,
   "metadata": {
    "colab": {
     "base_uri": "https://localhost:8080/",
     "height": 831
    },
    "id": "Hc3mwALPwa7-",
    "outputId": "8f14bea3-6e87-4100-be8c-2cc5f16d3bd0"
   },
   "outputs": [
    {
     "name": "stdout",
     "output_type": "stream",
     "text": [
      "accuracy_score:  0.9975010412328197\n",
      "precision_score 1.0\n",
      "recall_score 0.9945897204688909\n",
      "[[1292    0]\n",
      " [   6 1103]]\n",
      "CPU times: user 184 ms, sys: 52.4 ms, total: 236 ms\n",
      "Wall time: 185 ms\n"
     ]
    },
    {
     "data": {
      "image/png": "[encoded data removed]",
      "text/plain": [
       "<Figure size 576x432 with 1 Axes>"
      ]
     },
     "metadata": {
      "needs_background": "light"
     },
     "output_type": "display_data"
    },
    {
     "data": {
      "image/png": "[encoded data removed]",
      "text/plain": [
       "<Figure size 432x288 with 2 Axes>"
      ]
     },
     "metadata": {
      "needs_background": "light"
     },
     "output_type": "display_data"
    }
   ],
   "source": [
    "%%time\n",
    "# Fit a DecisionTreeClassifier model to the train dataset\n",
    "\n",
    "#import DecisionTreeClassifier\n",
    "from sklearn.tree import DecisionTreeClassifier\n",
    "\n",
    "# Instantiate the model\n",
    "dt_clf = DecisionTreeClassifier()\n",
    "\n",
    "# fitting the model on train data\n",
    "dt_clf.fit(X_train,y_train)\n",
    "\n",
    "# predict on test data\n",
    "y_preds_dt = dt_clf.predict(X_test)\n",
    "\n",
    "# print accuracy_score,precision_score,precision_score,confusion_matrix\n",
    "print(\"accuracy_score: \", accuracy_score(y_preds_dt, y_test))\n",
    "print(\"precision_score\", precision_score(y_preds_dt, y_test))\n",
    "print(\"recall_score\", recall_score(y_preds_dt, y_test))\n",
    "print(confusion_matrix(y_preds_dt,y_test))\n",
    "\n",
    "\n",
    "# visualizing importance of features\n",
    "fig, ax = visualize_importance(dt_clf.feature_importances_, X)\n",
    "\n",
    "\n",
    "# display confusion matrix\n",
    "disp = metrics.plot_confusion_matrix(dt_clf, X_test, y_test,\n",
    "                                 cmap=plt.cm.Blues,\n",
    "                                 normalize='true')\n"
   ]
  },
  {
   "cell_type": "markdown",
   "metadata": {
    "id": "GManaGfgU7io"
   },
   "source": [
    "## GradientBoostingClassifier"
   ]
  },
  {
   "cell_type": "code",
   "execution_count": 109,
   "metadata": {
    "colab": {
     "base_uri": "https://localhost:8080/",
     "height": 828
    },
    "id": "yDuLFGFEwa6i",
    "outputId": "0f74f7ea-0748-42b5-d2fe-7b2cecc95a5b"
   },
   "outputs": [
    {
     "name": "stdout",
     "output_type": "stream",
     "text": [
      "accuracy_score:  0.9966680549770929\n",
      "precision_score 0.9963735267452403\n",
      "recall_score 0.9963735267452403\n",
      "[[1294    4]\n",
      " [   4 1099]]\n",
      "CPU times: user 2.45 s, sys: 69.7 ms, total: 2.52 s\n",
      "Wall time: 2.47 s\n"
     ]
    },
    {
     "data": {
      "image/png": "[encoded data removed]",
      "text/plain": [
       "<Figure size 576x432 with 1 Axes>"
      ]
     },
     "metadata": {
      "needs_background": "light"
     },
     "output_type": "display_data"
    },
    {
     "data": {
      "image/png": "[encoded data removed]",
      "text/plain": [
       "<Figure size 432x288 with 2 Axes>"
      ]
     },
     "metadata": {
      "needs_background": "light"
     },
     "output_type": "display_data"
    }
   ],
   "source": [
    "%%time\n",
    "# Fit a Gradient Boosting Classifier model to the train dataset\n",
    "\n",
    "# Import GradientBoostingClassifier\n",
    "from sklearn.ensemble import GradientBoostingClassifier\n",
    "\n",
    "# Instantiate the model\n",
    "GBR_clf = GradientBoostingClassifier()\n",
    "\n",
    "# fitting the model on train data\n",
    "GBR_clf.fit(X_train,y_train)\n",
    "\n",
    "# predict on test data\n",
    "y_preds_GB = GBR_clf.predict(X_test)\n",
    "\n",
    "# print accuracy_score,precision_score,precision_score,confusion_matrix\n",
    "print(\"accuracy_score: \", accuracy_score(y_preds_GB, y_test))\n",
    "print(\"precision_score\", precision_score(y_preds_GB, y_test))\n",
    "print(\"recall_score\", recall_score(y_preds_GB, y_test))\n",
    "print(confusion_matrix(y_preds_GB,y_test))\n",
    "\n",
    "\n",
    "# visualizing importance of features\n",
    "fig, ax = visualize_importance(GBR_clf.feature_importances_, X)\n",
    "\n",
    "# display confusion matrix\n",
    "disp = metrics.plot_confusion_matrix(GBR_clf, X_test, y_test,\n",
    "                                 cmap=plt.cm.Blues,\n",
    "                                 normalize='true')"
   ]
  },
  {
   "cell_type": "markdown",
   "metadata": {
    "id": "h-SaINO6YrZe"
   },
   "source": [
    "## Hyper parameter tunning\n",
    "\n",
    "A hyperparameter is a parameter whose value is set before the learning process begins.\n",
    "\n",
    "Hyperparameters tuning is crucial as they control the overall behavior of a machine learning model.\n",
    "\n",
    "Every machine learning models will have different hyperparameters that can be set.\n",
    "\n",
    "###RandomizedSearchCV\n",
    "\n",
    "RandomizedSearchCV is very useful when we have many parameters to try and the training time is very long.\n",
    "\n",
    "1. The first step is to write the parameters that we want to consider\n",
    "2. From these parameters select the best ones.(which are printed in output)"
   ]
  },
  {
   "cell_type": "code",
   "execution_count": null,
   "metadata": {
    "id": "NOC29Wj5YbCO"
   },
   "outputs": [],
   "source": [
    "# Helper function to perform hyper parameter tunning with RandomizedSearchCV\n",
    "def random_Search(model,X_train, Y_train,param_grid):\n",
    "  from sklearn.model_selection import RandomizedSearchCV\n",
    "\n",
    "  # Random search of parameters, using 3 fold cross validation, \n",
    "  # search across 100 different combinations, and use all available cores\n",
    "  random = RandomizedSearchCV(estimator = model, param_distributions = param_grid, n_iter = 100, cv = 3, verbose=2, random_state=42, n_jobs = -1)\n",
    "  # Fit the random search model\n",
    "  random.fit(X_train, y_train)\n",
    "  random.best_params_"
   ]
  },
  {
   "cell_type": "code",
   "execution_count": null,
   "metadata": {
    "id": "XFlw8BdEYcfC"
   },
   "outputs": [],
   "source": [
    "%%time\n",
    "# for random forest classifier\n",
    "# create parameters dict for tunning\n",
    "rf_para_grid = {'n_estimators': [int(x) for x in np.linspace(start = 200, stop = 2000, num = 10)],\n",
    "               'max_features': ['auto', 'sqrt'],\n",
    "               'max_depth': [int(x) for x in np.linspace(10, 110, num = 11)],\n",
    "               'min_samples_split': [2, 5, 10],\n",
    "               'min_samples_leaf': [1, 2, 4],\n",
    "               'bootstrap': [True, False]}\n",
    "\n",
    "# passing data for hyper parameter tunning with Randomized search cv\n",
    "random_Search(RandomForestClassifier(),X_train, y_train, param_grid=rf_para_grid)"
   ]
  },
  {
   "cell_type": "markdown",
   "metadata": {
    "id": "cN05dpdgRQO_"
   },
   "source": [
    "### working with best model"
   ]
  },
  {
   "cell_type": "code",
   "execution_count": 110,
   "metadata": {
    "colab": {
     "base_uri": "https://localhost:8080/"
    },
    "id": "vh4AUr77wax5",
    "outputId": "ded138d0-940a-40d7-a882-fb83afbddc79"
   },
   "outputs": [
    {
     "name": "stdout",
     "output_type": "stream",
     "text": [
      "Area under ROC of Model On Test Set - 99.77%\n"
     ]
    }
   ],
   "source": [
    "# print Area under ROC of Model On Test Set\n",
    "score = metrics.roc_auc_score(y_test, y_preds_rf)\n",
    "\n",
    "print(f'Area under ROC of Model On Test Set - {score:,.2%}')"
   ]
  },
  {
   "cell_type": "code",
   "execution_count": 111,
   "metadata": {
    "id": "SkytbPoGwawF"
   },
   "outputs": [],
   "source": [
    "# Create a dataframe with predicted result as data using best model\n",
    "predictions = pd.DataFrame(y_preds_rf)"
   ]
  },
  {
   "cell_type": "code",
   "execution_count": 112,
   "metadata": {
    "colab": {
     "base_uri": "https://localhost:8080/",
     "height": 204
    },
    "id": "bYNliUkEwaQ-",
    "outputId": "14d743dc-5758-4402-fbbd-b9ffcdd33b66"
   },
   "outputs": [
    {
     "data": {
      "text/html": [
       "<div>\n",
       "<style scoped>\n",
       "    .dataframe tbody tr th:only-of-type {\n",
       "        vertical-align: middle;\n",
       "    }\n",
       "\n",
       "    .dataframe tbody tr th {\n",
       "        vertical-align: top;\n",
       "    }\n",
       "\n",
       "    .dataframe thead th {\n",
       "        text-align: right;\n",
       "    }\n",
       "</style>\n",
       "<table border=\"1\" class=\"dataframe\">\n",
       "  <thead>\n",
       "    <tr style=\"text-align: right;\">\n",
       "      <th></th>\n",
       "      <th>0</th>\n",
       "    </tr>\n",
       "  </thead>\n",
       "  <tbody>\n",
       "    <tr>\n",
       "      <th>0</th>\n",
       "      <td>0</td>\n",
       "    </tr>\n",
       "    <tr>\n",
       "      <th>1</th>\n",
       "      <td>1</td>\n",
       "    </tr>\n",
       "    <tr>\n",
       "      <th>2</th>\n",
       "      <td>0</td>\n",
       "    </tr>\n",
       "    <tr>\n",
       "      <th>3</th>\n",
       "      <td>0</td>\n",
       "    </tr>\n",
       "    <tr>\n",
       "      <th>4</th>\n",
       "      <td>0</td>\n",
       "    </tr>\n",
       "  </tbody>\n",
       "</table>\n",
       "</div>"
      ],
      "text/plain": [
       "   0\n",
       "0  0\n",
       "1  1\n",
       "2  0\n",
       "3  0\n",
       "4  0"
      ]
     },
     "execution_count": 112,
     "metadata": {},
     "output_type": "execute_result"
    }
   ],
   "source": [
    "predictions.head()"
   ]
  },
  {
   "cell_type": "markdown",
   "metadata": {
    "id": "RG9uGYSFX65g"
   },
   "source": [
    "# Conclusion\n",
    "\n",
    "According to this model, the predicted value we got, matches with the actual target values. The model is performing well.  We have performed EDA, preprocessing, build different models, visualized feature importance, did hyper parameter tunning and did prediction."
   ]
  }
 ],
 "metadata": {
  "colab": {
   "collapsed_sections": [],
   "name": "Electrical Fault detection with code.ipynb",
   "provenance": []
  },
  "kernelspec": {
   "display_name": "Python 3",
   "language": "python",
   "name": "python3"
  },
  "language_info": {
   "codemirror_mode": {
    "name": "ipython",
    "version": 3
   },
   "file_extension": ".py",
   "mimetype": "text/x-python",
   "name": "python",
   "nbconvert_exporter": "python",
   "pygments_lexer": "ipython3",
   "version": "3.8.5"
  }
 },
 "nbformat": 4,
 "nbformat_minor": 1
}
